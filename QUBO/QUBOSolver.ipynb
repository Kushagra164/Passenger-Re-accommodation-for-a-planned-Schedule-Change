{
 "cells": [
  {
   "cell_type": "code",
   "execution_count": null,
   "metadata": {},
   "outputs": [],
   "source": [
    "# Install Dwave Library\n",
    "!pip install dwave-ocean-sdk"
   ]
  },
  {
   "cell_type": "code",
   "execution_count": null,
   "metadata": {},
   "outputs": [],
   "source": [
    "\n",
    "from dwave.system import LeapHybridSampler\n",
    "\n",
    "\n",
    "# Read the QUBO input\n",
    "def read_adjacency_list(file_path):\n",
    "    graph = {}\n",
    "    with open(file_path, 'r') as file:\n",
    "        lines = file.readlines()\n",
    "        for i, line in enumerate(lines):\n",
    "            weights = list(map(int, line.split()))\n",
    "            for j in range(len(weights)):\n",
    "              if(weights[j]!=0):\n",
    "                graph[(i,j)] = weights[j]\n",
    "    return graph\n",
    "\n",
    "\n",
    "# Solve the QUBO using D-Wave Leap Hybrid Solver \n",
    "def QUBOSolver(filePath,no_samples,apiKey):\n",
    "  QUBO = read_adjacency_list(filePath)\n",
    "  sampler = LeapHybridSampler(token=api_key)\n",
    "  Assignments = {}\n",
    "  \n",
    "  for i in range(no_samples):\n",
    "    response = sampler.sample_qubo(QUBO)\n",
    "    # print(\"Sample:\", response.first.sample)\n",
    "    # print(\"Energy:\", response.first.energy)\n",
    "    # print(\"------\")\n",
    "    Assignments[i] = response\n",
    "  \n",
    "  return Assignments\n",
    "\n",
    "\n",
    "\n",
    "apiKey = \"\"\n",
    "filePath = \"input.txt\"\n",
    "No_Samples = \n",
    "Assignments = QUBOSolver(filePath,No_Samples,apiKey)\n",
    "# print(Assignments)\n",
    "file = open(\"Output.txt\",\"w\")\n",
    "file.writelines(Assignments)"
   ]
  }
 ],
 "metadata": {
  "language_info": {
   "name": "python"
  }
 },
 "nbformat": 4,
 "nbformat_minor": 2
}
